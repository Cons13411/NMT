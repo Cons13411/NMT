{
 "cells": [
  {
   "cell_type": "code",
   "execution_count": 4,
   "metadata": {},
   "outputs": [
    {
     "name": "stdout",
     "output_type": "stream",
     "text": [
      "Requirement already satisfied: torchtext==0.8.0 in /opt/conda/lib/python3.7/site-packages (0.8.0)\n",
      "Requirement already satisfied: tqdm in /opt/conda/lib/python3.7/site-packages (from torchtext==0.8.0) (4.50.2)\n",
      "Requirement already satisfied: numpy in /opt/conda/lib/python3.7/site-packages (from torchtext==0.8.0) (1.18.5)\n",
      "Requirement already satisfied: torch in /opt/conda/lib/python3.7/site-packages (from torchtext==0.8.0) (1.7.1)\n",
      "Requirement already satisfied: requests in /opt/conda/lib/python3.7/site-packages (from torchtext==0.8.0) (2.24.0)\n",
      "Requirement already satisfied: typing-extensions in /opt/conda/lib/python3.7/site-packages (from torch->torchtext==0.8.0) (3.7.4.2)\n",
      "Requirement already satisfied: urllib3!=1.25.0,!=1.25.1,<1.26,>=1.21.1 in /opt/conda/lib/python3.7/site-packages (from requests->torchtext==0.8.0) (1.25.10)\n",
      "Requirement already satisfied: certifi>=2017.4.17 in /opt/conda/lib/python3.7/site-packages (from requests->torchtext==0.8.0) (2020.6.20)\n",
      "Requirement already satisfied: idna<3,>=2.5 in /opt/conda/lib/python3.7/site-packages (from requests->torchtext==0.8.0) (2.10)\n",
      "Requirement already satisfied: chardet<4,>=3.0.2 in /opt/conda/lib/python3.7/site-packages (from requests->torchtext==0.8.0) (3.0.4)\n"
     ]
    },
    {
     "name": "stderr",
     "output_type": "stream",
     "text": [
      "[nltk_data] Downloading package punkt to /home/jupyter/nltk_data...\n",
      "[nltk_data]   Package punkt is already up-to-date!\n"
     ]
    },
    {
     "data": {
      "text/plain": [
       "True"
      ]
     },
     "execution_count": 4,
     "metadata": {},
     "output_type": "execute_result"
    }
   ],
   "source": [
    "import warnings\n",
    "import torch\n",
    "from torch import nn\n",
    "import numpy as np\n",
    "import codecs\n",
    "from torch.utils.data import DataLoader, Dataset\n",
    "!pip install torchtext==0.8.0 \n",
    "from torchtext.data.functional import generate_sp_model,load_sp_model, sentencepiece_numericalizer, sentencepiece_tokenizer\n",
    "from torchtext import data\n",
    "import spacy\n",
    "import torchtext\n",
    "import copy\n",
    "import sys\n",
    "from nltk.tokenize import word_tokenize\n",
    "import nltk\n",
    "import torch.nn.functional as F\n",
    "import random\n",
    "nltk.download('punkt')"
   ]
  },
  {
   "cell_type": "code",
   "execution_count": 5,
   "metadata": {},
   "outputs": [
    {
     "name": "stdout",
     "output_type": "stream",
     "text": [
      "Tue Dec 22 22:06:18 2020       \n",
      "+-----------------------------------------------------------------------------+\n",
      "| NVIDIA-SMI 460.27.04    Driver Version: 460.27.04    CUDA Version: 11.2     |\n",
      "|-------------------------------+----------------------+----------------------+\n",
      "| GPU  Name        Persistence-M| Bus-Id        Disp.A | Volatile Uncorr. ECC |\n",
      "| Fan  Temp  Perf  Pwr:Usage/Cap|         Memory-Usage | GPU-Util  Compute M. |\n",
      "|                               |                      |               MIG M. |\n",
      "|===============================+======================+======================|\n",
      "|   0  Tesla T4            Off  | 00000000:00:04.0 Off |                    0 |\n",
      "| N/A   59C    P0    29W /  70W |      0MiB / 15109MiB |      0%      Default |\n",
      "|                               |                      |                  N/A |\n",
      "+-------------------------------+----------------------+----------------------+\n",
      "                                                                               \n",
      "+-----------------------------------------------------------------------------+\n",
      "| Processes:                                                                  |\n",
      "|  GPU   GI   CI        PID   Type   Process name                  GPU Memory |\n",
      "|        ID   ID                                                   Usage      |\n",
      "|=============================================================================|\n",
      "|  No running processes found                                                 |\n",
      "+-----------------------------------------------------------------------------+\n"
     ]
    },
    {
     "data": {
      "text/plain": [
       "True"
      ]
     },
     "execution_count": 5,
     "metadata": {},
     "output_type": "execute_result"
    }
   ],
   "source": [
    "# The field class is going to depricated soon, so there are constant warnings about it, this is to shut them down.\n",
    "warnings.filterwarnings('ignore')\n",
    "torch.cuda.empty_cache()\n",
    "!nvidia-smi\n",
    "torch.cuda.is_available()"
   ]
  },
  {
   "cell_type": "code",
   "execution_count": 6,
   "metadata": {},
   "outputs": [],
   "source": [
    "# Our tokenizer\n",
    "def tokenizer(txt):\n",
    "    txt = txt.lower()\n",
    "    tokenized = word_tokenize(txt)\n",
    "    return tokenized"
   ]
  },
  {
   "cell_type": "code",
   "execution_count": 7,
   "metadata": {},
   "outputs": [],
   "source": [
    "# Definning the field with the custom tokenizer\n",
    "src_sentence_field = data.Field(sequential=True, tokenize=tokenizer, batch_first=True)\n",
    "trg_sentence_field = data.Field(sequential=True, tokenize=tokenizer,\n",
    "                           init_token='<s>', eos_token='</s>', batch_first=True)"
   ]
  },
  {
   "cell_type": "code",
   "execution_count": 11,
   "metadata": {},
   "outputs": [],
   "source": [
    "#Loading pair sentence using TabularDataset\n",
    "dataset_translation = data.TabularDataset(path='~/../cons13411/trainset.txt', format='TSV',\n",
    "                                         fields=[('src',src_sentence_field), ('trg', trg_sentence_field)],\n",
    "                                         )\n",
    "trainset, valset, testset = dataset_translation.split(split_ratio=[0.8,0.1,0.1])"
   ]
  },
  {
   "cell_type": "code",
   "execution_count": 12,
   "metadata": {},
   "outputs": [],
   "source": [
    "for j,i in enumerate(dataset_translation):\n",
    "    try:\n",
    "        if i.trg:\n",
    "            continue\n",
    "        else:\n",
    "            print (i.src)\n",
    "    except:\n",
    "        print(i.src)\n",
    "#         dataset_translation.examples[j].trg = ['...', '...']\n",
    "       "
   ]
  },
  {
   "cell_type": "code",
   "execution_count": 13,
   "metadata": {},
   "outputs": [],
   "source": [
    "# Building the BucketBatch iterator \n",
    "src_sentence_field.build_vocab(dataset_translation)\n",
    "trg_sentence_field.build_vocab(dataset_translation)\n",
    "train_iterator, val_iterator, test_iterator = data.BucketIterator.splits((trainset,valset,testset), (128,64,32),\n",
    "                                                                         sort_key= lambda x:len(x.src))"
   ]
  },
  {
   "cell_type": "code",
   "execution_count": 14,
   "metadata": {},
   "outputs": [],
   "source": [
    "#Encoder Class\n",
    "class Encoder(nn.Module):\n",
    "    def __init__(self, num_layer, num_hidden_size, embed_size, vocab_size, gpu , dropout = 0.2):\n",
    "        super(Encoder, self).__init__()\n",
    "        \n",
    "        self.num_layer = num_layer\n",
    "        self.hidden_size = num_hidden_size\n",
    "        self.embed_size = embed_size\n",
    "        self.vocab_size = vocab_size\n",
    "        self.gpu = gpu\n",
    "        self.dropout_v = dropout\n",
    "        self.dropout = nn.Dropout(self.dropout_v)\n",
    "\n",
    "        self.embedding = nn.Embedding(self.vocab_size,self.embed_size)\n",
    "        \n",
    "        self.GRU = nn.GRU(self.embed_size, self.hidden_size, self.num_layer,\n",
    "                            batch_first=True)\n",
    "    \n",
    "    def forward(self, input):\n",
    "        embeddings = self.embedding(input)\n",
    "        embeddings = self.dropout(embeddings)\n",
    "        output, hidden = self.GRU(embeddings)\n",
    "        #print(f\"encoder output size: {output.shape}\")\n",
    "        return output, hidden\n",
    "    \n",
    "    def init_hidden(self, batch_size):\n",
    "        if self.gpu:\n",
    "              hidden_state = torch.zeros(self.num_layer,batch_size,self.hidden_size).cuda()\n",
    "         # cell_state = torch.randn(self.num_layer,batch_size,self.hidden_size).cuda()\n",
    "        else: \n",
    "              hidden_state = torch.zeros(self.num_layer,batch_size,self.hidden_size)\n",
    "          #cell_state = torch.randn(self.num_layer,batch_size,self.hidden_size)\n",
    "        #hidden = (hidden_state,cell_state)\n",
    "        return hidden_state"
   ]
  },
  {
   "cell_type": "code",
   "execution_count": 15,
   "metadata": {},
   "outputs": [],
   "source": [
    "#Decoder Class\n",
    "class Decoder(nn.Module):\n",
    "    def __init__(self, num_layer, num_hidden_size, embed_size, vocab_size, gpu, dropout=0.0):\n",
    "        super(Decoder, self).__init__()\n",
    "        \n",
    "        self.num_layer = num_layer\n",
    "        self.hidden_size = num_hidden_size\n",
    "        self.embed_size = embed_size\n",
    "        self.vocab_size = vocab_size\n",
    "        self.gpu = gpu\n",
    "        self.embedding = nn.Embedding(self.vocab_size,self.embed_size)\n",
    "        self.GRU = nn.GRU(self.hidden_size, self.hidden_size, self.num_layer,\n",
    "                            batch_first=True)\n",
    "        self.linear = nn.Linear(self.hidden_size, self.vocab_size)\n",
    "    \n",
    "    def forward(self, input, hidden):\n",
    "\n",
    "        if len(input.size()) == 1:\n",
    "            input = input.unsqueeze(1)\n",
    "\n",
    "        embeddings = self.embedding(input)\n",
    "        embeddings = F.relu(embeddings)\n",
    "        output, hidden = self.GRU(embeddings, hidden)\n",
    "        decoder_output = self.linear(output)\n",
    "        return decoder_output, hidden"
   ]
  },
  {
   "cell_type": "code",
   "execution_count": 53,
   "metadata": {},
   "outputs": [],
   "source": [
    "def train(src_seq, encoder, trg_seq, decoder, criterion, trg_vocab, gpu=False, teacher_forcing_ratio = 0.5):\n",
    "\n",
    "        encoder_output, encoder_hidden = encoder(src_seq)\n",
    "        decoder_hidden = encoder_hidden\n",
    "        batch_size = trg_seq.shape[0]\n",
    "        target_out_label = trg_seq[:,:]\n",
    "        target_in_label = trg_seq[:,1:-1]\n",
    "        decoder_input = torch.tensor(np.full((batch_size,1), trg_vocab.stoi['<s>']))\n",
    "        if gpu:\n",
    "            decoder_input = decoder_input.cuda()\n",
    "\n",
    "        use_teacher_forcing = True if random.random() < teacher_forcing_ratio else False\n",
    "\n",
    "        batch_loss = 0\n",
    "        batch_words = 0\n",
    "        batch_correct = 0\n",
    "\n",
    "        if use_teacher_forcing:\n",
    "            for tg_id in range(len(target_in_label)):\n",
    "                    if tg_id == target_in_label.shape[1]:\n",
    "                          break\n",
    "                  # print(decoder_input.get_device())\n",
    "                    decoder_output, decoder_hidden = decoder(decoder_input, decoder_hidden)\n",
    "                    tg_word = target_out_label[:,tg_id+1]\n",
    "                    batch_loss += criterion(decoder_output.squeeze(), tg_word)\n",
    "                    decoder_input = target_in_label[:,tg_id]\n",
    "          # if gpu:\n",
    "          #   decoder_input.cuda()\n",
    "        else:\n",
    "\n",
    "            for tg_id in range(len(target_in_label)):\n",
    "                if tg_id == target_in_label.shape[1]:\n",
    "                        break\n",
    "                decoder_output, decoder_hidden = decoder(decoder_input, decoder_hidden)\n",
    "                tg_word = target_out_label[:,tg_id+1]\n",
    "                batch_loss += criterion(decoder_output.squeeze(), tg_word)\n",
    "                predict = F.log_softmax(decoder_output.detach(),dim=2).topk(1)[1]\n",
    "                decoder_input = predict.squeeze().detach()\n",
    "          # if gpu:\n",
    "          #   decoder_input.cuda()\n",
    "          # if predict == trg_vocab.stoi['</s>']:\n",
    "          #   break\n",
    "      \n",
    "\n",
    "        return batch_loss\n"
   ]
  },
  {
   "cell_type": "code",
   "execution_count": 54,
   "metadata": {},
   "outputs": [],
   "source": [
    "def evaluate( encoder, decoder, eval_iterator, criterion, trg_vocab, epoch, gpu=False, max_len=40):\n",
    "\n",
    "        encoder.eval()\n",
    "        decoder.eval()\n",
    "        total_words = 0\n",
    "        total_correct = 0\n",
    "        accu = np.inf\n",
    "\n",
    "        with torch.no_grad():\n",
    "            losses = []\n",
    "            total = 0\n",
    "            for batch in eval_iterator:\n",
    "                encoder.zero_grad()\n",
    "                decoder.zero_grad()\n",
    "                batch_loss = 0\n",
    "                batch_words = 0\n",
    "                batch_correct = 0\n",
    "                \n",
    "                src_batch = batch.src\n",
    "                trg_batch = batch.trg\n",
    "              \n",
    "                if gpu:\n",
    "                    src_batch = src_batch.cuda()\n",
    "                    trg_batch = trg_batch.cuda()\n",
    "                \n",
    "                if len(src_batch.size()) == 1:\n",
    "                    continue\n",
    "\n",
    "                target_out_label = trg_batch[:,1:]\n",
    "                batch_size = trg_batch.size(0)\n",
    "\n",
    "                encoder_output, encoder_hidden = encoder(src_batch)\n",
    "                decoder_hidden = encoder_hidden\n",
    "                batch_size = trg_batch.shape[0]\n",
    "                target_out_label = trg_batch[:,1:]\n",
    "                decoder_input = torch.tensor(np.full((batch_size,1), trg_vocab.stoi['<s>']))\n",
    "                if gpu:\n",
    "                    decoder_input = decoder_input.cuda()\n",
    "                predictions = []\n",
    "                batch_loss = 0\n",
    "                batch_words = 0\n",
    "                batch_correct = 0\n",
    "                for tg_id in range(max_len):\n",
    "                    if tg_id == target_out_label.shape[1]:\n",
    "                          break\n",
    "                    decoder_output, decoder_hidden = decoder(decoder_input, decoder_hidden)\n",
    "                    tg_word = target_out_label[:,tg_id]\n",
    "                    batch_loss += criterion(decoder_output.squeeze(), tg_word)\n",
    "                    predict = F.log_softmax(decoder_output.detach(),dim=2).topk(1)[1]\n",
    "                    decoder_input = predict.squeeze().detach()\n",
    "                    predictions.append(decoder_input)\n",
    "                    if epoch % 5 == 0:\n",
    "                            batch_words += torch.sum(torch.tensor([1 if tg_word[i] != trg_vocab.stoi['<PAD>']\n",
    "                                                                else 0 for i in range(len(tg_word))]))\n",
    "                            batch_correct += torch.sum(torch.tensor([1 if predict[i] == tg_word[i] and \n",
    "                                                                    tg_word[i] != trg_vocab.stoi['<PAD>'] \n",
    "                                                                    else 0 for i in range(len(tg_word)) ]))\n",
    "                    \n",
    "                avg_batch_loss = batch_loss.item()/max_len\n",
    "                losses.append(avg_batch_loss)\n",
    "                if epoch % 5 == 0:\n",
    "                    total_words += batch_words\n",
    "                    total_correct += batch_correct\n",
    "                total += 1\n",
    "\n",
    "        if epoch % 5 == 0:\n",
    "            accu = float(total_correct)/total_words\n",
    "        encoder.train()\n",
    "        decoder.train()\n",
    "        return (sum(losses) / total), accu, predictions\n"
   ]
  },
  {
   "cell_type": "code",
   "execution_count": 16,
   "metadata": {},
   "outputs": [],
   "source": [
    "#Hyperparameter settings\n",
    "num_layer = 1\n",
    "num_hidden_size = 64\n",
    "embed_size = 64\n",
    "encode_vocab_size = len(src_sentence_field.vocab)\n",
    "decoder_vocab_size = len(trg_sentence_field.vocab)\n",
    "#encoder_dropout = 0.2"
   ]
  },
  {
   "cell_type": "code",
   "execution_count": 1,
   "metadata": {},
   "outputs": [
    {
     "ename": "NameError",
     "evalue": "name 'torch' is not defined",
     "output_type": "error",
     "traceback": [
      "\u001b[0;31m---------------------------------------------------------------------------\u001b[0m",
      "\u001b[0;31mNameError\u001b[0m                                 Traceback (most recent call last)",
      "\u001b[0;32m<ipython-input-1-d4a198bceb37>\u001b[0m in \u001b[0;36m<module>\u001b[0;34m\u001b[0m\n\u001b[1;32m      1\u001b[0m \u001b[0;31m#Train Procedure\u001b[0m\u001b[0;34m\u001b[0m\u001b[0;34m\u001b[0m\u001b[0m\n\u001b[1;32m      2\u001b[0m \u001b[0mgpu_device\u001b[0m \u001b[0;34m=\u001b[0m \u001b[0;32mFalse\u001b[0m\u001b[0;34m\u001b[0m\u001b[0m\n\u001b[0;32m----> 3\u001b[0;31m \u001b[0;32mif\u001b[0m \u001b[0mtorch\u001b[0m\u001b[0;34m.\u001b[0m\u001b[0mcuda\u001b[0m\u001b[0;34m.\u001b[0m\u001b[0mis_available\u001b[0m\u001b[0;34m(\u001b[0m\u001b[0;34m)\u001b[0m\u001b[0;34m:\u001b[0m\u001b[0;34m\u001b[0m\u001b[0m\n\u001b[0m\u001b[1;32m      4\u001b[0m     \u001b[0mtorch\u001b[0m\u001b[0;34m.\u001b[0m\u001b[0mdevice\u001b[0m\u001b[0;34m(\u001b[0m\u001b[0;34m'cuda'\u001b[0m\u001b[0;34m)\u001b[0m\u001b[0;34m\u001b[0m\u001b[0m\n\u001b[1;32m      5\u001b[0m     \u001b[0mgpu_device\u001b[0m \u001b[0;34m=\u001b[0m \u001b[0;32mTrue\u001b[0m\u001b[0;34m\u001b[0m\u001b[0m\n",
      "\u001b[0;31mNameError\u001b[0m: name 'torch' is not defined"
     ]
    }
   ],
   "source": [
    "#Train Procedure \n",
    "gpu_device = False\n",
    "if torch.cuda.is_available():\n",
    "    torch.device('cuda')\n",
    "    gpu_device = True\n",
    "\n",
    "np.random.seed(1)\n",
    "torch.manual_seed(1)\n",
    "torch.cuda.manual_seed(1)\n",
    "encoder = Encoder(num_layer,num_hidden_size,embed_size,encode_vocab_size, gpu_device)\n",
    "decoder = Decoder(num_layer,num_hidden_size,embed_size,decoder_vocab_size, gpu_device)\n",
    "\n",
    "if gpu_device:\n",
    "    encoder.cuda()\n",
    "    decoder.cuda()\n",
    "\n",
    "criterion = nn.CrossEntropyLoss(ignore_index=src_sentence_field.vocab['<PAD>'])\n",
    "# optimencoder = torch.optim.Adam(encoder.parameters(),lr=0.001, weight_decay=0.0, betas=(0.9, 0.999),\n",
    "#                          eps=1e-8, amsgrad=False) \n",
    "# optimdecoder = torch.optim.Adam(decoder.parameters(),lr=0.001, weight_decay=0.0, betas=(0.9, 0.999),\n",
    "#                          eps=1e-8, amsgrad=False) \n",
    "optimencoder = torch.optim.Adam(encoder.parameters(),lr=0.001, weight_decay=0.0, betas=(0.9, 0.999),\n",
    "                         eps=1e-8, amsgrad=False) \n",
    "optimdecoder = torch.optim.Adam(decoder.parameters(),lr=0.001, weight_decay=0.0, betas=(0.9, 0.999),\n",
    "                         eps=1e-8, amsgrad=False) \n",
    "\n",
    "epoch = 100\n",
    "\n",
    "least_loss = np.inf\n",
    "train_loss = []\n",
    "eval_loss = []\n",
    "\n",
    "for i in range(epoch):\n",
    "    print('Ep {:4d}'.format(i), end='')\n",
    "    losses = []\n",
    "    total = 0\n",
    "    \n",
    "    total_correct = 0\n",
    "    total_words = 0\n",
    "    \n",
    "    for batch in train_iterator:\n",
    "\n",
    "        src_batch = batch.src\n",
    "        trg_batch = batch.trg\n",
    "        \n",
    "        if gpu_device:\n",
    "            src_batch = src_batch.cuda()\n",
    "            trg_batch = trg_batch.cuda()\n",
    "\n",
    "\n",
    "        encoder.zero_grad()\n",
    "        decoder.zero_grad()\n",
    "\n",
    "        encoder.train(mode = True)\n",
    "        decoder.train(mode = True)\n",
    "        \n",
    "        if len(src_batch.size()) == 1:\n",
    "            continue        \n",
    "\n",
    "        batch_loss = train(src_batch, encoder, trg_batch, decoder, criterion,\n",
    "                           trg_sentence_field.vocab, gpu=gpu_device, teacher_forcing_ratio=0.5)\n",
    "            \n",
    "        batch_loss.backward()\n",
    "        optimencoder.step()\n",
    "        optimdecoder.step()\n",
    "        avg_loss = batch_loss.item()/trg_batch.size(1)\n",
    "        losses.append(avg_loss)\n",
    "        # total_correct += batch_correct\n",
    "        # total_words += batch_word\n",
    "        #print(f\"accuracy batch: {float(batch_correct)/batch_word}\")\n",
    "        total += 1\n",
    "      \n",
    "    epoch_loss = np.sum(losses)/total\n",
    "    train_loss.append(epoch_loss)\n",
    "    # accuracy = float(total_correct)/total_words\n",
    "    print(' |Train loss {:4f}'.format(epoch_loss), end='')\n",
    "    eval_loss, eval_accu, predictions = evaluate(encoder, decoder, val_iterator,\n",
    "                                                       criterion, trg_sentence_field.vocab,\n",
    "                                                       i, gpu=gpu_device)\n",
    "    print(' |Evaluation loss {:4f}'.format(eval_loss), end='')\n",
    "    print(' |Eval Acc {:4f}'.format(eval_accu), end='')\n",
    "    if least_loss > eval_loss :\n",
    "        least_loss = eval_loss\n",
    "        torch.save(encoder.state_dict(), './encoder_noattention_sgd.pth')\n",
    "        torch.save(decoder.state_dict(), './decoder_noattention_sgd.pth')\n",
    "        best_encoder = copy.deepcopy(encoder)\n",
    "        best_decoder = copy.deepcopy(decoder)\n",
    "        print('|Saved\\n')\n",
    "    else:\n",
    "        print('\\n')"
   ]
  },
  {
   "cell_type": "code",
   "execution_count": 21,
   "metadata": {},
   "outputs": [],
   "source": [
    "# Transfering a tensor to a sentence (BPE encoding)\n",
    "def denumericalization(vocab, tensor):\n",
    "    sentence = ''\n",
    "    for index in tensor:\n",
    "        if index in [1,2,3]:\n",
    "            continue\n",
    "\n",
    "        sentence += ' '+ vocab.itos[index]\n",
    "    return sentence.strip()"
   ]
  },
  {
   "cell_type": "code",
   "execution_count": 22,
   "metadata": {},
   "outputs": [],
   "source": [
    "def sampling(encoder,decoder, input_sequence, src_sentence_field, trg_sentence_field, temperature = 0.0 ):\n",
    "    \n",
    "    inpute_tokenized = src_sentence_field.tokenize(input_sequence)\n",
    "    input_seq = src_sentence_field.numericalize([inpute_tokenized])\n",
    "    \n",
    "    target_tokens = [trg_sentence_field.vocab.stoi['<s>']]\n",
    "    \n",
    "    target_seq = torch.tensor(np.full((1,1), trg_sentence_field.vocab.stoi['<s>'] ))\n",
    "    EOS = trg_sentence_field.vocab.stoi['</s>']\n",
    "    \n",
    "    trg_tokens = prediction(encoder,decoder,input_seq, target_seq, EOS, temperature=temperature)\n",
    "    \n",
    "    print(trg_tokens)\n",
    "\n",
    "    return trg_tokens"
   ]
  },
  {
   "cell_type": "code",
   "execution_count": 23,
   "metadata": {},
   "outputs": [],
   "source": [
    "    def prediction(encoder, decoder, input_seq, target_seq, EOS, temperature=0.0):\n",
    "        \n",
    "        target_tokens = [] \n",
    "        encoder.eval()\n",
    "        decoder.eval()\n",
    "        with torch.no_grad():\n",
    "        \n",
    "            encoder.zero_grad()\n",
    "            decoder.zero_grad()\n",
    "\n",
    "\n",
    "            batch_size = target_seq.size(0)\n",
    "\n",
    "            if torch.cuda.is_available():\n",
    "                input_seq = input_seq.cuda()\n",
    "                target_seq = target_seq.cuda()\n",
    "\n",
    "            encoder_output, encoder_hidden = encoder(input_seq)\n",
    "            decoder_hidden = encoder_hidden\n",
    "            decoder_output, decoder_hidden = decoder(target_seq, decoder_hidden)\n",
    "            \n",
    "            symbol = logsoftmax_sample(decoder_output, temperature=temperature)\n",
    "            symbol_list = symbol.tolist()[0][0]\n",
    "            target_tokens.append(symbol_list[0])\n",
    "            counter = 0 \n",
    "            while symbol != EOS and counter < 100 :\n",
    "                # print(f\"{symbol}  : {trg_sentence_field.vocab.itos[symbol]}\")\n",
    "                # print(decoder_output)\n",
    "                target_seq = torch.tensor(np.full((1,1), symbol_list[0] ))\n",
    "                if torch.cuda.is_available():\n",
    "                    target_seq = target_seq.cuda()\n",
    "                decoder_output, decoder_hidden = decoder(target_seq, decoder_hidden)\n",
    "                symbol = logsoftmax_sample(decoder_output, temperature=temperature)\n",
    "                symbol_list = symbol.tolist()[0][0]\n",
    "                target_tokens.append(symbol_list[0])\n",
    "                counter +=1\n",
    "\n",
    "                \n",
    "            return target_tokens\n",
    "        \n",
    "\n",
    "    def logsoftmax_sample(logits, temperature=1.0):  \n",
    "\n",
    "        u = np.random.uniform(low=1e-6, high=1.0 - 1e-6, size=logits.shape)\n",
    "        g = -np.log(-np.log(u))\n",
    "        g = torch.from_numpy(g)\n",
    "        if torch.cuda.is_available():\n",
    "            g = g.cuda()\n",
    "        log_probs = torch.nn.functional.log_softmax(logits, dim=-1)\n",
    "        probs =log_probs + g * temperature\n",
    "\n",
    "        return probs.topk(1)[1]"
   ]
  },
  {
   "cell_type": "code",
   "execution_count": 17,
   "metadata": {},
   "outputs": [
    {
     "data": {
      "text/plain": [
       "<All keys matched successfully>"
      ]
     },
     "execution_count": 17,
     "metadata": {},
     "output_type": "execute_result"
    }
   ],
   "source": [
    "gpu_device = False\n",
    "if torch.cuda.is_available():\n",
    "    torch.device('cuda')\n",
    "    gpu_device = True\n",
    "\n",
    "np.random.seed(1)\n",
    "torch.manual_seed(1)\n",
    "torch.cuda.manual_seed(1)\n",
    "encoder = Encoder(num_layer,num_hidden_size,embed_size,encode_vocab_size, gpu_device)\n",
    "decoder = Decoder(num_layer,num_hidden_size,embed_size,decoder_vocab_size, gpu_device)\n",
    "\n",
    "if gpu_device:\n",
    "    encoder.cuda()\n",
    "    decoder.cuda()\n",
    "\n",
    "criterion = nn.CrossEntropyLoss(ignore_index=src_sentence_field.vocab['<PAD>'])\n",
    "\n",
    "encoder.load_state_dict(torch.load('./encoder_noattention.pth'))\n",
    "decoder.load_state_dict(torch.load('./decoder_noattention.pth'))"
   ]
  },
  {
   "cell_type": "code",
   "execution_count": 36,
   "metadata": {},
   "outputs": [
    {
     "name": "stdout",
     "output_type": "stream",
     "text": [
      "[52, 14, 19, 4, 101, 18, 4, 6, 3]\n"
     ]
    },
    {
     "data": {
      "text/plain": [
       "'wenn wir nicht , sondern daß , .'"
      ]
     },
     "execution_count": 36,
     "metadata": {},
     "output_type": "execute_result"
    }
   ],
   "source": [
    "predicted = sampling(encoder, decoder, 'We do not know what is happening.', src_sentence_field, trg_sentence_field, temperature=0.3)\n",
    "denumericalization(trg_sentence_field.vocab, predicted)"
   ]
  },
  {
   "cell_type": "code",
   "execution_count": 37,
   "metadata": {},
   "outputs": [],
   "source": [
    "from nltk.translate.bleu_score import sentence_bleu"
   ]
  },
  {
   "cell_type": "code",
   "execution_count": 52,
   "metadata": {},
   "outputs": [
    {
     "data": {
      "text/plain": [
       "0.14285714285714285"
      ]
     },
     "execution_count": 52,
     "metadata": {},
     "output_type": "execute_result"
    }
   ],
   "source": [
    "trans = ['wenn', 'wir', 'nicht',  ',', 'sondern', 'daß', ',' ,'.']\n",
    "ref = [['wir', 'wissen', 'nicht', ',', 'was', 'passiert', '.']]\n",
    "sentence_bleu(ref, trans, weights=(0,1,0,0))"
   ]
  },
  {
   "cell_type": "code",
   "execution_count": null,
   "metadata": {},
   "outputs": [],
   "source": []
  }
 ],
 "metadata": {
  "environment": {
   "name": "pytorch-gpu.1-4.m58",
   "type": "gcloud",
   "uri": "gcr.io/deeplearning-platform-release/pytorch-gpu.1-4:m58"
  },
  "kernelspec": {
   "display_name": "Python 3",
   "language": "python",
   "name": "python3"
  },
  "language_info": {
   "codemirror_mode": {
    "name": "ipython",
    "version": 3
   },
   "file_extension": ".py",
   "mimetype": "text/x-python",
   "name": "python",
   "nbconvert_exporter": "python",
   "pygments_lexer": "ipython3",
   "version": "3.6.5"
  }
 },
 "nbformat": 4,
 "nbformat_minor": 4
}
